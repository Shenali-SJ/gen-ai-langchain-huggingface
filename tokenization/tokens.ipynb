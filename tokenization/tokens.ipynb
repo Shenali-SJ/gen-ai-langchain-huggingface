{
 "cells": [
  {
   "cell_type": "code",
   "execution_count": null,
   "id": "1f473686",
   "metadata": {},
   "outputs": [],
   "source": [
    "text_data = '''Hello. Welcome, Hello welcome to NLP tutorials. Please do watch the entire course to become expert in NLP!'''"
   ]
  },
  {
   "cell_type": "code",
   "execution_count": null,
   "id": "89af18bd",
   "metadata": {},
   "outputs": [
    {
     "name": "stdout",
     "output_type": "stream",
     "text": [
      "['Hello.', 'Welcome, Hello welcome to Krishna NLP tutorials.', 'Please do watch the entire course to become expert in NLP!']\n"
     ]
    },
    {
     "name": "stderr",
     "output_type": "stream",
     "text": [
      "[nltk_data] Downloading package punkt to ./venv/nltk_data...\n",
      "[nltk_data]   Package punkt is already up-to-date!\n"
     ]
    }
   ],
   "source": [
    "\n",
    "import nltk\n",
    "nltk.download('punkt') # Download the punkt tokenizer models if not already downloaded\n",
    "from nltk.tokenize import sent_tokenize\n",
    "\n",
    "sentences = sent_tokenize(text_data)\n",
    "print(sentences)"
   ]
  },
  {
   "cell_type": "code",
   "execution_count": 31,
   "id": "bb5a91c0",
   "metadata": {},
   "outputs": [
    {
     "name": "stdout",
     "output_type": "stream",
     "text": [
      "['Hello', '.']\n",
      "['Welcome', ',', 'Hello', 'welcome', 'to', 'Krishna', 'NLP', 'tutorials', '.']\n",
      "['Please', 'do', 'watch', 'the', 'entire', 'course', 'to', 'become', 'expert', 'in', 'NLP', '!']\n"
     ]
    }
   ],
   "source": [
    "for sentence in sentences:\n",
    "    sentence = sentence.strip()  # Remove leading/trailing whitespace\n",
    "    words = nltk.word_tokenize(sentence)\n",
    "    print(words)"
   ]
  },
  {
   "cell_type": "code",
   "execution_count": null,
   "id": "40f70b3b",
   "metadata": {},
   "outputs": [
    {
     "name": "stdout",
     "output_type": "stream",
     "text": [
      "Hello.\n",
      "Welcome,\n",
      "Hello\n",
      "welcome\n",
      "to\n",
      "Krishna\n",
      "NLP\n",
      "tutorials.\n",
      "Please\n",
      "do\n",
      "watch\n",
      "the\n",
      "entire\n",
      "course\n",
      "to\n",
      "become\n",
      "expert\n",
      "in\n",
      "NLP!\n"
     ]
    }
   ],
   "source": [
    "for word in text_data.split(): # Simple whitespace tokenizer\n",
    "    print(word)"
   ]
  },
  {
   "cell_type": "code",
   "execution_count": null,
   "id": "c07c7b3d",
   "metadata": {},
   "outputs": [
    {
     "name": "stdout",
     "output_type": "stream",
     "text": [
      "eating --> eat\n",
      "eats --> eat\n",
      "eaten --> eaten\n",
      "writing --> write\n",
      "writes --> write\n",
      "programming --> program\n",
      "programs --> program\n",
      "history --> histori\n",
      "finally --> final\n",
      "finalized --> final\n"
     ]
    }
   ],
   "source": [
    "from nltk.stem import PorterStemmer;\n",
    "\n",
    "porterStemmer = PorterStemmer()\n",
    "\n",
    "words = [\"eating\", \"eats\", \"eaten\", \"writing\", \"writes\", \"programming\", \"programs\", \"history\", \"finally\", \"finalized\"]\n",
    "\n",
    "for word in words:\n",
    "    print(f\"{word} --> {porterStemmer.stem(word)}\")"
   ]
  }
 ],
 "metadata": {
  "kernelspec": {
   "display_name": "Python 3",
   "language": "python",
   "name": "python3"
  },
  "language_info": {
   "codemirror_mode": {
    "name": "ipython",
    "version": 3
   },
   "file_extension": ".py",
   "mimetype": "text/x-python",
   "name": "python",
   "nbconvert_exporter": "python",
   "pygments_lexer": "ipython3",
   "version": "3.12.11"
  }
 },
 "nbformat": 4,
 "nbformat_minor": 5
}
