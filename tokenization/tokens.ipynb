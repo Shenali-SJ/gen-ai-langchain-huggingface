{
 "cells": [
  {
   "cell_type": "code",
   "execution_count": 28,
   "id": "1f473686",
   "metadata": {},
   "outputs": [],
   "source": [
    "text_data = '''Hello. Welcome, Hello welcome to Krishna NLP tutorials. Please do watch the entire course to become expert in NLP!'''"
   ]
  },
  {
   "cell_type": "code",
   "execution_count": null,
   "id": "89af18bd",
   "metadata": {},
   "outputs": [
    {
     "name": "stdout",
     "output_type": "stream",
     "text": [
      "['Hello.', 'Welcome, Hello welcome to Krishna NLP tutorials.', 'Please do watch the entire course to become expert in NLP!']\n"
     ]
    },
    {
     "name": "stderr",
     "output_type": "stream",
     "text": [
      "[nltk_data] Downloading package punkt to ./venv/nltk_data...\n",
      "[nltk_data]   Package punkt is already up-to-date!\n"
     ]
    }
   ],
   "source": [
    "\n",
    "import nltk\n",
    "nltk.download('punkt') # Download the punkt tokenizer models if not already downloaded\n",
    "from nltk.tokenize import sent_tokenize\n",
    "\n",
    "sentences = sent_tokenize(text_data)\n",
    "print(sentences)"
   ]
  },
  {
   "cell_type": "code",
   "execution_count": null,
   "id": "bb5a91c0",
   "metadata": {},
   "outputs": [],
   "source": []
  }
 ],
 "metadata": {
  "kernelspec": {
   "display_name": "Python 3",
   "language": "python",
   "name": "python3"
  },
  "language_info": {
   "codemirror_mode": {
    "name": "ipython",
    "version": 3
   },
   "file_extension": ".py",
   "mimetype": "text/x-python",
   "name": "python",
   "nbconvert_exporter": "python",
   "pygments_lexer": "ipython3",
   "version": "3.12.11"
  }
 },
 "nbformat": 4,
 "nbformat_minor": 5
}
