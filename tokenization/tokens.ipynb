{
 "cells": [
  {
   "cell_type": "code",
   "execution_count": null,
   "id": "1f473686",
   "metadata": {},
   "outputs": [],
   "source": [
    "text_data = '''Hello.\n",
    "Welcome,\n",
    "Hello welcome to Krishna NLP tutorials.\n",
    "Please do watch the entire course to become expert in NLP!'''"
   ]
  },
  {
   "cell_type": "code",
   "execution_count": null,
   "id": "ee187ee7",
   "metadata": {},
   "outputs": [],
   "source": [
    "import nltk\n",
    "nltk.download('punkt')"
   ]
  },
  {
   "cell_type": "code",
   "execution_count": null,
   "id": "1efecd9e",
   "metadata": {},
   "outputs": [],
   "source": [
    "from nltk.tokenize import sent_tokenize\n",
    "\n",
    "# Tokenize into sentences\n",
    "sentences = sent_tokenize(text_data)"
   ]
  },
  {
   "cell_type": "code",
   "execution_count": 9,
   "id": "d62d3379",
   "metadata": {},
   "outputs": [
    {
     "name": "stdout",
     "output_type": "stream",
     "text": [
      "Python: /Users/shenali/Projects/Learning/Courses/ai-udemy-python/project-one/conda_env/bin/python\n",
      "NLTK version: 3.9.1\n",
      "NLTK search paths: ['/Users/shenali/nltk_data', '/Users/shenali/Projects/Learning/Courses/ai-udemy-python/project-one/conda_env/nltk_data', '/Users/shenali/Projects/Learning/Courses/ai-udemy-python/project-one/conda_env/share/nltk_data', '/Users/shenali/Projects/Learning/Courses/ai-udemy-python/project-one/conda_env/lib/nltk_data', '/usr/share/nltk_data', '/usr/local/share/nltk_data', '/usr/lib/nltk_data', '/usr/local/lib/nltk_data']\n",
      "Found punkt at: /Users/shenali/Projects/Learning/Courses/ai-udemy-python/project-one/conda_env/nltk_data/tokenizers/punkt\n"
     ]
    }
   ],
   "source": [
    "import sys, os, nltk\n",
    "print(\"Python:\", sys.executable)          # must point into your conda env's bin/python\n",
    "print(\"NLTK version:\", nltk.__version__)\n",
    "print(\"NLTK search paths:\", nltk.data.path)\n",
    "\n",
    "# Does punkt exist where you expect?\n",
    "try:\n",
    "    print(\"Found punkt at:\", nltk.data.find(\"tokenizers/punkt\"))\n",
    "except LookupError as e:\n",
    "    print(\"punkt NOT found:\", e)\n"
   ]
  },
  {
   "cell_type": "code",
   "execution_count": null,
   "id": "1ec60491",
   "metadata": {},
   "outputs": [],
   "source": []
  }
 ],
 "metadata": {
  "language_info": {
   "name": "python"
  }
 },
 "nbformat": 4,
 "nbformat_minor": 5
}
